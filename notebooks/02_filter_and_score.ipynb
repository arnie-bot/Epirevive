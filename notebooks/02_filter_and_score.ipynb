{
 "cells": [
  {
   "cell_type": "code",
   "execution_count": 20,
   "id": "2ecc5b6c-bb17-4bcc-8352-5e0376447b44",
   "metadata": {},
   "outputs": [
    {
     "name": "stdout",
     "output_type": "stream",
     "text": [
      "['Study ID', 'Patient ID', 'Sample ID', 'Diagnosis Age', 'American Joint Committee on Cancer Metastasis Stage Code', 'Neoplasm Disease Lymph Node Stage American Joint Committee on Cancer Code', 'Neoplasm Disease Stage American Joint Committee on Cancer Code', 'American Joint Committee on Cancer Publication Version Type', 'American Joint Committee on Cancer Tumor Stage Code', 'Alcohol Consumption Frequency', 'Alcohol History Documented', 'Amplification Status', 'Angiolymphatic Invasion', 'Cancer Type', 'Cancer Type Detailed', 'Neoplasm American Joint Committee on Cancer Clinical Distant Metastasis M Stage', 'Neoplasm American Joint Committee on Cancer Clinical Regional Lymph Node N Stage', 'Neoplasm American Joint Committee on Cancer Clinical Primary Tumor T Stage', 'Neoplasm American Joint Committee on Cancer Clinical Group Stage', 'Daily Alcohol', 'Days to Sample Collection.', 'Last Alive Less Initial Pathologic Diagnosis Date Calculated Day Value', 'Days to Sample Procurement', 'Disease Free (Months)', 'Disease Free Status', 'Disease code', 'Ethnicity Category', 'Extracapsular spread pathologic', 'Lymphomatous Extranodal Site Involvement Indicator', 'Form completion date']\n"
     ]
    }
   ],
   "source": [
    "import pandas as pd, os, re\n",
    "\n",
    "BASE = '../data/raw/cbioportal/'\n",
    "clin = pd.read_csv(os.path.join(BASE, 'clinical.tsv'), sep='\\t')\n",
    "\n",
    "print(clin.columns.tolist()[:30])       \n"
   ]
  },
  {
   "cell_type": "code",
   "execution_count": 21,
   "id": "b11ff785-cc83-4a3f-83d6-4ea9c168a5db",
   "metadata": {},
   "outputs": [
    {
     "data": {
      "text/plain": [
       "['Hpv status ish', 'Hpv status p16']"
      ]
     },
     "execution_count": 21,
     "metadata": {},
     "output_type": "execute_result"
    }
   ],
   "source": [
    "[col for col in clin.columns if 'hpv' in col.lower()]"
   ]
  },
  {
   "cell_type": "code",
   "execution_count": 22,
   "id": "a0e9d0fa-c90c-47a2-b320-01e9a8bcb148",
   "metadata": {},
   "outputs": [
    {
     "data": {
      "text/plain": [
       "['American Joint Committee on Cancer Metastasis Stage Code',\n",
       " 'Neoplasm Disease Lymph Node Stage American Joint Committee on Cancer Code',\n",
       " 'Neoplasm Disease Stage American Joint Committee on Cancer Code',\n",
       " 'American Joint Committee on Cancer Tumor Stage Code',\n",
       " 'Neoplasm American Joint Committee on Cancer Clinical Distant Metastasis M Stage',\n",
       " 'Neoplasm American Joint Committee on Cancer Clinical Regional Lymph Node N Stage',\n",
       " 'Neoplasm American Joint Committee on Cancer Clinical Primary Tumor T Stage',\n",
       " 'Neoplasm American Joint Committee on Cancer Clinical Group Stage',\n",
       " 'Stage Other']"
      ]
     },
     "execution_count": 22,
     "metadata": {},
     "output_type": "execute_result"
    }
   ],
   "source": [
    "[col for col in clin.columns if 'stage' in col.lower()]"
   ]
  },
  {
   "cell_type": "code",
   "execution_count": 23,
   "id": "74472e8e-fab9-456d-8aff-4436ec381f12",
   "metadata": {},
   "outputs": [
    {
     "name": "stdout",
     "output_type": "stream",
     "text": [
      "53\n"
     ]
    }
   ],
   "source": [
    "hpv_col   = 'Hpv status p16'\n",
    "stage_col = 'Neoplasm Disease Stage American Joint Committee on Cancer Code'\n",
    "\n",
    "mask = (\n",
    "    clin[hpv_col].str.upper().eq('NEGATIVE') &\n",
    "    clin[stage_col].str.contains(r'III|IV', flags=re.I, na=False)\n",
    ")\n",
    "subset_ids = clin.loc[mask, 'Sample ID'].tolist()\n",
    "print(len(subset_ids))"
   ]
  },
  {
   "cell_type": "code",
   "execution_count": 24,
   "id": "78a30588-ef3b-46cd-adb5-cc82bd17ba7f",
   "metadata": {},
   "outputs": [
    {
     "name": "stdout",
     "output_type": "stream",
     "text": [
      "['STUDY_ID', 'SAMPLE_ID', 'TAP1', 'B2M', 'IRF1']\n"
     ]
    }
   ],
   "source": [
    "import pandas as pd, os\n",
    "BASE = '../data/raw/cbioportal/'\n",
    "\n",
    "expr_head = pd.read_csv(os.path.join(BASE, 'mrna_z.txt'), sep='\\t', nrows=3)\n",
    "print(expr_head.columns[:5].tolist())"
   ]
  },
  {
   "cell_type": "code",
   "execution_count": 25,
   "id": "401718b5-3319-4a74-b166-7575dbddbb06",
   "metadata": {},
   "outputs": [
    {
     "name": "stdout",
     "output_type": "stream",
     "text": [
      "['STUDY_ID', 'SAMPLE_ID', 'TAP1', 'B2M', 'IRF1']\n"
     ]
    }
   ],
   "source": [
    "cna_head = pd.read_csv(os.path.join(BASE, 'cna.txt'), sep='\\t', nrows=3)\n",
    "print(cna_head.columns[:5].tolist())"
   ]
  },
  {
   "cell_type": "code",
   "execution_count": 26,
   "id": "7134d851-facf-4f3b-9f9d-70e9a559c4ec",
   "metadata": {},
   "outputs": [
    {
     "name": "stdout",
     "output_type": "stream",
     "text": [
      "['STUDY_ID', 'SAMPLE_ID', 'TAP1', 'B2M', 'IRF1', 'STAT1', 'CXCL9', 'CXCL10', 'PSMB9', 'NLRC5', 'HLA-A', 'HLA-B']\n"
     ]
    }
   ],
   "source": [
    "# inspect mutation file header\n",
    "mut_head = pd.read_csv(f'{BASE}mutations.txt', sep='\\t', nrows=3)\n",
    "print(mut_head.columns.tolist())"
   ]
  },
  {
   "cell_type": "code",
   "execution_count": 27,
   "id": "30d4927b-6bac-489d-bda6-098c7027711a",
   "metadata": {},
   "outputs": [
    {
     "name": "stdout",
     "output_type": "stream",
     "text": [
      "../data/processed/initial_rescue_scores.csv\n"
     ]
    }
   ],
   "source": [
    "BASE = '../data/raw/cbioportal/'\n",
    "\n",
    "genes = ['TAP1','B2M','IRF1','STAT1','CXCL9',\n",
    "         'CXCL10','PSMB9','NLRC5','HLA-A','HLA-B']\n",
    "\n",
    "expr = (pd.read_csv(f'{BASE}mrna_z.txt', sep='\\t')\n",
    "          .set_index('SAMPLE_ID')\n",
    "          .loc[subset_ids, genes]\n",
    "          .astype(float)\n",
    "          .T)\n",
    "\n",
    "cna  = (pd.read_csv(f'{BASE}cna.txt', sep='\\t')\n",
    "          .set_index('SAMPLE_ID')\n",
    "          .loc[subset_ids, genes]\n",
    "          .astype(float)\n",
    "          .T)\n",
    "\n",
    "mut  = (pd.read_csv(f'{BASE}mutations.txt', sep='\\t')\n",
    "          .set_index('SAMPLE_ID')\n",
    "          .loc[subset_ids, genes]\n",
    "          .apply(pd.to_numeric, errors='coerce')\n",
    "          .fillna(0)\n",
    "          .T)\n",
    "\n",
    "low_expr = expr <= -1.5\n",
    "mut_pct  = (mut != 0).mean(axis=1)\n",
    "del_pct  = (cna == -2).mean(axis=1)\n",
    "\n",
    "score = (pd.DataFrame({'low_pct':     low_expr.mean(axis=1),\n",
    "                       'mut_pct':     mut_pct,\n",
    "                       'cnv_del_pct': del_pct})\n",
    "           .assign(rescue_score=lambda d: d.low_pct * (1 - d.mut_pct - d.cnv_del_pct))\n",
    "           .sort_values('rescue_score', ascending=False))\n",
    "\n",
    "out_path = '../data/processed/initial_rescue_scores.csv'\n",
    "os.makedirs('../data/processed', exist_ok=True)\n",
    "score.to_csv(out_path)\n",
    "print(out_path)"
   ]
  },
  {
   "cell_type": "code",
   "execution_count": null,
   "id": "2be1ff9b-7e1b-45f7-a4e3-9e138e6a80d3",
   "metadata": {},
   "outputs": [],
   "source": []
  }
 ],
 "metadata": {
  "kernelspec": {
   "display_name": "Python (epirevive)",
   "language": "python",
   "name": "epirevive"
  },
  "language_info": {
   "codemirror_mode": {
    "name": "ipython",
    "version": 3
   },
   "file_extension": ".py",
   "mimetype": "text/x-python",
   "name": "python",
   "nbconvert_exporter": "python",
   "pygments_lexer": "ipython3",
   "version": "3.11.13"
  }
 },
 "nbformat": 4,
 "nbformat_minor": 5
}
