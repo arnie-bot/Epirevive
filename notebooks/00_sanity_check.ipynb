{
 "cells": [
  {
   "cell_type": "code",
   "execution_count": 1,
   "id": "609d31b0-e69e-4aaf-80dd-6a6149fc5417",
   "metadata": {},
   "outputs": [
    {
     "name": "stdout",
     "output_type": "stream",
     "text": [
      "/opt/miniconda3/envs/epirevive/bin/python\n",
      "2.3.0\n"
     ]
    }
   ],
   "source": [
    "import sys, pandas\n",
    "print(sys.executable)\n",
    "print(pandas.__version__)\n"
   ]
  },
  {
   "cell_type": "code",
   "execution_count": null,
   "id": "0b36a8f8-b3f9-44ac-9a0d-870cefd4ae85",
   "metadata": {},
   "outputs": [],
   "source": []
  }
 ],
 "metadata": {
  "kernelspec": {
   "display_name": "Python (epirevive)",
   "language": "python",
   "name": "epirevive"
  },
  "language_info": {
   "codemirror_mode": {
    "name": "ipython",
    "version": 3
   },
   "file_extension": ".py",
   "mimetype": "text/x-python",
   "name": "python",
   "nbconvert_exporter": "python",
   "pygments_lexer": "ipython3",
   "version": "3.11.13"
  }
 },
 "nbformat": 4,
 "nbformat_minor": 5
}
